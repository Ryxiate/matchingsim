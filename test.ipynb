{
 "cells": [
  {
   "cell_type": "code",
   "execution_count": 17,
   "metadata": {},
   "outputs": [
    {
     "data": {
      "text/plain": [
       "array([[0.42295794, 0.02526366, 0.27994935],\n",
       "       [0.47681718, 0.63559503, 0.15819832],\n",
       "       [0.58019966, 0.71362744, 0.17385057]])"
      ]
     },
     "execution_count": 17,
     "metadata": {},
     "output_type": "execute_result"
    }
   ],
   "source": [
    "import numpy as np\n",
    "import random\n",
    "import matplotlib.pyplot as plt\n",
    "\n",
    "a = np.random.random((3, 3))\n",
    "a"
   ]
  },
  {
   "cell_type": "code",
   "execution_count": 11,
   "metadata": {},
   "outputs": [
    {
     "data": {
      "text/plain": [
       "array([0.26561401, 0.49646595])"
      ]
     },
     "execution_count": 11,
     "metadata": {},
     "output_type": "execute_result"
    }
   ],
   "source": [
    "a[2, [0, 1]]"
   ]
  },
  {
   "cell_type": "code",
   "execution_count": 12,
   "metadata": {},
   "outputs": [
    {
     "data": {
      "text/plain": [
       "0.15329347011029226"
      ]
     },
     "execution_count": 12,
     "metadata": {},
     "output_type": "execute_result"
    }
   ],
   "source": [
    "x = a[2]\n",
    "x.mean(where=x<x.max())"
   ]
  },
  {
   "cell_type": "code",
   "execution_count": 13,
   "metadata": {},
   "outputs": [
    {
     "data": {
      "text/plain": [
       "array([0.39545248, 0.99381617, 0.04097293])"
      ]
     },
     "execution_count": 13,
     "metadata": {},
     "output_type": "execute_result"
    }
   ],
   "source": [
    "a.diagonal()"
   ]
  },
  {
   "cell_type": "code",
   "execution_count": 14,
   "metadata": {},
   "outputs": [
    {
     "data": {
      "text/plain": [
       "array([[0.39545248, 0.08001187, 0.58797757],\n",
       "       [0.87084464, 0.99381617, 0.06498522],\n",
       "       [0.26561401, 0.49646595, 0.04097293]])"
      ]
     },
     "execution_count": 14,
     "metadata": {},
     "output_type": "execute_result"
    }
   ],
   "source": [
    "a"
   ]
  },
  {
   "cell_type": "code",
   "execution_count": 15,
   "metadata": {},
   "outputs": [],
   "source": [
    "class myclass(object):\n",
    "    def __init__(self):\n",
    "        self._a = np.random.random((3, 3))\n",
    "    \n",
    "    @property\n",
    "    def a(self):\n",
    "        return self._a"
   ]
  },
  {
   "cell_type": "code",
   "execution_count": 16,
   "metadata": {},
   "outputs": [
    {
     "name": "stdout",
     "output_type": "stream",
     "text": [
      "[[0.56460769 0.11079841 0.53102571]\n",
      " [0.75861343 0.95278544 0.56820481]\n",
      " [0.20136069 0.85922147 0.91616468]]\n",
      "[[0.56460769 0.11079841 0.53102571]\n",
      " [0.75861343 3.         0.56820481]\n",
      " [0.20136069 0.85922147 0.91616468]]\n"
     ]
    }
   ],
   "source": [
    "b = myclass()\n",
    "print(b.a)\n",
    "\n",
    "b.a[1, 1] = 3\n",
    "print(b.a)"
   ]
  },
  {
   "cell_type": "code",
   "execution_count": 28,
   "metadata": {},
   "outputs": [
    {
     "data": {
      "text/plain": [
       "Text(0.5, 0.98, 'aaaaaa')"
      ]
     },
     "execution_count": 28,
     "metadata": {},
     "output_type": "execute_result"
    },
    {
     "data": {
      "image/png": "[encoded data removed]",
      "text/plain": [
       "<Figure size 640x480 with 1 Axes>"
      ]
     },
     "metadata": {},
     "output_type": "display_data"
    }
   ],
   "source": [
    "plt.plot(range(5), range(1, 6))\n",
    "plt.suptitle(\"aaaaaa\", fontsize=14)"
   ]
  },
  {
   "cell_type": "code",
   "execution_count": 29,
   "metadata": {},
   "outputs": [
    {
     "name": "stdout",
     "output_type": "stream",
     "text": [
      "\n",
      "a\n",
      "b\n",
      "ab\n"
     ]
    }
   ],
   "source": [
    "for i in range(4):\n",
    "    if i%2:\n",
    "        print(\"a\", end=\"\")\n",
    "    if i//2:\n",
    "        print(\"b\", end=\"\")\n",
    "    print()"
   ]
  },
  {
   "cell_type": "code",
   "execution_count": 28,
   "metadata": {},
   "outputs": [
    {
     "data": {
      "text/html": [
       "<div>\n",
       "<style scoped>\n",
       "    .dataframe tbody tr th:only-of-type {\n",
       "        vertical-align: middle;\n",
       "    }\n",
       "\n",
       "    .dataframe tbody tr th {\n",
       "        vertical-align: top;\n",
       "    }\n",
       "\n",
       "    .dataframe thead th {\n",
       "        text-align: right;\n",
       "    }\n",
       "</style>\n",
       "<table border=\"1\" class=\"dataframe\">\n",
       "  <thead>\n",
       "    <tr style=\"text-align: right;\">\n",
       "      <th></th>\n",
       "      <th>0</th>\n",
       "      <th>1</th>\n",
       "    </tr>\n",
       "  </thead>\n",
       "  <tbody>\n",
       "    <tr>\n",
       "      <th>0</th>\n",
       "      <td>1</td>\n",
       "      <td>[0]</td>\n",
       "    </tr>\n",
       "    <tr>\n",
       "      <th>1</th>\n",
       "      <td>2</td>\n",
       "      <td>[0, 1]</td>\n",
       "    </tr>\n",
       "    <tr>\n",
       "      <th>2</th>\n",
       "      <td>3</td>\n",
       "      <td>[0, 1, 2]</td>\n",
       "    </tr>\n",
       "    <tr>\n",
       "      <th>3</th>\n",
       "      <td>4</td>\n",
       "      <td>[0, 1, 2, 3]</td>\n",
       "    </tr>\n",
       "  </tbody>\n",
       "</table>\n",
       "</div>"
      ],
      "text/plain": [
       "   0             1\n",
       "0  1           [0]\n",
       "1  2        [0, 1]\n",
       "2  3     [0, 1, 2]\n",
       "3  4  [0, 1, 2, 3]"
      ]
     },
     "execution_count": 28,
     "metadata": {},
     "output_type": "execute_result"
    }
   ],
   "source": [
    "import pandas as pd\n",
    "import numpy as np\n",
    "\n",
    "a = pd.DataFrame([[i, list(range(i))] for i in range(1, 5)])\n",
    "a"
   ]
  },
  {
   "cell_type": "code",
   "execution_count": 26,
   "metadata": {},
   "outputs": [
    {
     "data": {
      "text/html": [
       "<div>\n",
       "<style scoped>\n",
       "    .dataframe tbody tr th:only-of-type {\n",
       "        vertical-align: middle;\n",
       "    }\n",
       "\n",
       "    .dataframe tbody tr th {\n",
       "        vertical-align: top;\n",
       "    }\n",
       "\n",
       "    .dataframe thead th {\n",
       "        text-align: right;\n",
       "    }\n",
       "</style>\n",
       "<table border=\"1\" class=\"dataframe\">\n",
       "  <thead>\n",
       "    <tr style=\"text-align: right;\">\n",
       "      <th></th>\n",
       "      <th>0</th>\n",
       "      <th>1</th>\n",
       "    </tr>\n",
       "  </thead>\n",
       "  <tbody>\n",
       "    <tr>\n",
       "      <th>0</th>\n",
       "      <td>1</td>\n",
       "      <td>[0]</td>\n",
       "    </tr>\n",
       "    <tr>\n",
       "      <th>1</th>\n",
       "      <td>2</td>\n",
       "      <td>[0, 1]</td>\n",
       "    </tr>\n",
       "    <tr>\n",
       "      <th>2</th>\n",
       "      <td>3</td>\n",
       "      <td>[0, 1, 5]</td>\n",
       "    </tr>\n",
       "    <tr>\n",
       "      <th>3</th>\n",
       "      <td>4</td>\n",
       "      <td>[0, 1, 2, 3]</td>\n",
       "    </tr>\n",
       "  </tbody>\n",
       "</table>\n",
       "</div>"
      ],
      "text/plain": [
       "   0             1\n",
       "0  1           [0]\n",
       "1  2        [0, 1]\n",
       "2  3     [0, 1, 5]\n",
       "3  4  [0, 1, 2, 3]"
      ]
     },
     "execution_count": 26,
     "metadata": {},
     "output_type": "execute_result"
    }
   ],
   "source": [
    "a.iloc[2, 1][2] = 5\n",
    "b = a.iloc[2, 0]\n",
    "b += b\n",
    "\n",
    "a"
   ]
  },
  {
   "cell_type": "code",
   "execution_count": 30,
   "metadata": {},
   "outputs": [
    {
     "name": "stdout",
     "output_type": "stream",
     "text": [
      "    0                  1\n",
      "2  10  [0, 1, 2, 10, 10]\n",
      "    0                  1\n",
      "2  10  [0, 1, 2, 10, 10]\n"
     ]
    },
    {
     "data": {
      "text/html": [
       "<div>\n",
       "<style scoped>\n",
       "    .dataframe tbody tr th:only-of-type {\n",
       "        vertical-align: middle;\n",
       "    }\n",
       "\n",
       "    .dataframe tbody tr th {\n",
       "        vertical-align: top;\n",
       "    }\n",
       "\n",
       "    .dataframe thead th {\n",
       "        text-align: right;\n",
       "    }\n",
       "</style>\n",
       "<table border=\"1\" class=\"dataframe\">\n",
       "  <thead>\n",
       "    <tr style=\"text-align: right;\">\n",
       "      <th></th>\n",
       "      <th>0</th>\n",
       "      <th>1</th>\n",
       "    </tr>\n",
       "  </thead>\n",
       "  <tbody>\n",
       "    <tr>\n",
       "      <th>0</th>\n",
       "      <td>1</td>\n",
       "      <td>[0]</td>\n",
       "    </tr>\n",
       "    <tr>\n",
       "      <th>1</th>\n",
       "      <td>2</td>\n",
       "      <td>[0, 1]</td>\n",
       "    </tr>\n",
       "    <tr>\n",
       "      <th>2</th>\n",
       "      <td>10</td>\n",
       "      <td>[0, 1, 2, 10, 10]</td>\n",
       "    </tr>\n",
       "    <tr>\n",
       "      <th>3</th>\n",
       "      <td>4</td>\n",
       "      <td>[0, 1, 2, 3]</td>\n",
       "    </tr>\n",
       "  </tbody>\n",
       "</table>\n",
       "</div>"
      ],
      "text/plain": [
       "    0                  1\n",
       "0   1                [0]\n",
       "1   2             [0, 1]\n",
       "2  10  [0, 1, 2, 10, 10]\n",
       "3   4       [0, 1, 2, 3]"
      ]
     },
     "execution_count": 30,
     "metadata": {},
     "output_type": "execute_result"
    }
   ],
   "source": [
    "c = a.iloc[2:3]\n",
    "c.iloc[0, 1].append(10)\n",
    "print(c)\n",
    "d = a.iloc[2:3]\n",
    "d.iloc[0, 0] = 10\n",
    "print(d)\n",
    "\n",
    "a"
   ]
  },
  {
   "cell_type": "code",
   "execution_count": 35,
   "metadata": {},
   "outputs": [
    {
     "name": "stdout",
     "output_type": "stream",
     "text": [
      "    A  B   C\n",
      "0   1  5   9\n",
      "1  99  6  10\n",
      "2   3  7  11\n",
      "3   4  8  12\n",
      "    A    B\n",
      "0   1  100\n",
      "1  99  100\n"
     ]
    }
   ],
   "source": [
    "df = pd.DataFrame({'A': [1, 2, 3, 4],\n",
    "                   'B': [5, 6, 7, 8],\n",
    "                   'C': [9, 10, 11, 12]})\n",
    "\n",
    "new_variable = df.iloc[:2, :2]\n",
    "\n",
    "new_variable.iloc[1, 0] = 99\n",
    "new_variable['B'] = 100\n",
    "\n",
    "print(df)\n",
    "print(new_variable)"
   ]
  },
  {
   "cell_type": "code",
   "execution_count": 2,
   "metadata": {},
   "outputs": [],
   "source": [
    "from scipy import optimize\n",
    "import numpy as np\n",
    "\n",
    "def f(x, y):    return np.exp(-(2*x*x + y*y - x*y) / 2)\n",
    "def g(x, y):    return x*x + 3*(y+1)**2 - 1\n",
    "def dfdx(x, y): return -1/2 * (4*x - y) * f(x, y)\n",
    "def dfdy(x, y): return -1/2 * (-x + 2*y) * f(x, y)\n",
    "def dgdx(x, y): return 2*x\n",
    "def dgdy(x, y): return 6*(y+1)\n",
    "\n",
    "def DL(xyl):\n",
    "    [x, y, l] = xyl\n",
    "    return np.array([\n",
    "        dfdx(x, y) - l * dgdx(x, y),\n",
    "        dfdy(x, y) - l * dgdy(x, y),\n",
    "        - g(x, y)\n",
    "    ])"
   ]
  },
  {
   "cell_type": "code",
   "execution_count": 13,
   "metadata": {},
   "outputs": [
    {
     "name": "stdout",
     "output_type": "stream",
     "text": [
      "x = -0.00000\ty = -0.39960\tl = 0.000000\tf(x, y) = 0.923260\n",
      "x = 0.930900\ty = -1.21080\tl = -0.15230\tf(x, y) = 0.114960\n",
      "x = -0.95900\ty = -1.16370\tl = -0.24650\tf(x, y) = 0.353880\n",
      "x = -0.09580\ty = -0.42530\tl = 0.101100\tf(x, y) = 0.923810\n"
     ]
    }
   ],
   "source": [
    "from itertools import product\n",
    "xs = [-1, 0, 1]\n",
    "ys = [-1, 0, 1]\n",
    "ls = [-1, 0, 1]\n",
    "\n",
    "results = set()\n",
    "for starting_xyl in product(xs, ys, ls):\n",
    "    # starting_xyl = (-1, -1, 0)\n",
    "    res: np.ndarray = optimize.root(DL, starting_xyl).x\n",
    "    for i, x in enumerate(res):\n",
    "        res[i] = round(x, 4)\n",
    "    results.add(tuple(res.tolist()))\n",
    "    \n",
    "for result in results:\n",
    "    (x, y, l) = result\n",
    "    print(f\"x = {x:0<8.5f}\\ty = {y:0<8.5f}\\tl = {l:0<8.5f}\\tf(x, y) = {f(x, y):0<8.5f}\")"
   ]
  },
  {
   "cell_type": "code",
   "execution_count": 1,
   "metadata": {},
   "outputs": [
    {
     "data": {
      "text/plain": [
       "False"
      ]
     },
     "execution_count": 1,
     "metadata": {},
     "output_type": "execute_result"
    }
   ],
   "source": []
  }
 ],
 "metadata": {
  "kernelspec": {
   "display_name": "data",
   "language": "python",
   "name": "python3"
  },
  "language_info": {
   "codemirror_mode": {
    "name": "ipython",
    "version": 3
   },
   "file_extension": ".py",
   "mimetype": "text/x-python",
   "name": "python",
   "nbconvert_exporter": "python",
   "pygments_lexer": "ipython3",
   "version": "3.11.6"
  }
 },
 "nbformat": 4,
 "nbformat_minor": 2
}
